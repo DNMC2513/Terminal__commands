{
 "cells": [
  {
   "cell_type": "markdown",
   "id": "288d1f4e-d089-4e10-9d8a-43856b88dee8",
   "metadata": {},
   "source": [
    "# Basic Commands\n",
    "**Review**: a mixture of both cmdlets and CommandPrompt commands to work in Microsoft PowerShell"
   ]
  },
  {
   "cell_type": "markdown",
   "id": "e20106ec-ff63-4a74-8dfc-804e8a48710d",
   "metadata": {},
   "source": [
    "1. Rules to call out a directory:\n",
    "- a. What is directory?\n",
    "- b. How to cal out a directory\n",
    "- c. Work with directory containning spaces\n",
    "3. Uncategorized:\n",
    "- print out current dir\n",
    "- What is `~`?\n",
    "- clear the working screen\n",
    "- assign values to the variables\n",
    "- surf through the history of commands\n",
    "- exit a command that you cannot execute or the terminal\n",
    "2. Working with a directory:\n",
    "- a. Move to the target directory:\n",
    "    - Subfolders\n",
    "    - Containning folders\n",
    "- b. Show the content within a directory:\n",
    "    - Normal way\n",
    "    - All and include (automatically) hidden files\n",
    "    - Files of the same format (same ending)\n",
    "    - Only (automatically) hidden files\n",
    "    - Show all subforders and their contents\n",
    "    - Show all subforders and their contents in the tree diagram\n",
    "- b. Create a new directory\n",
    "- c. Remove a directory:\n",
    "    - The usual way\n",
    "    - The special way\n",
    "3. Working files:\n",
    "- a. Show the content within a file:\n",
    "    - Way1\n",
    "    - Way2\n",
    "- b. Create a new file:\n",
    "    - Cmdlet\n",
    "    - CommandPrompt terminal\n",
    "- c. Remove a file\n",
    "- d. Rename a file\n",
    "- e. Copy a file\n",
    "- f. Compare files:\n",
    "- j. Assign the result of a command to a file\n",
    "- h. Move a file to a new folder"
   ]
  },
  {
   "cell_type": "markdown",
   "id": "3ff13d61-9e34-4f1c-aef0-068a38c254cd",
   "metadata": {},
   "source": [
    "## I, Rules to call out a directory"
   ]
  },
  {
   "cell_type": "markdown",
   "id": "61872ce3-1c9b-4aaa-b1e2-144c451cec05",
   "metadata": {},
   "source": [
    "### 1, What is a directory?\n",
    "- A directory is the location of a folder/file, which is the combination of its name and all folders containing it divided by either '/' or '\\\\'.\n",
    "    - eg:\n",
    "```shell \n",
    "C:\\Users\\Admin\\AppData\\Roaming\\Python\\Python310\\Scripts\\Computing_terminologies\n",
    "```\n",
    "- A directory is also referred to the folder that it represents.   \n",
    "- A directory is also called as a `dir`."
   ]
  },
  {
   "cell_type": "markdown",
   "id": "a61f4354-5dc5-4220-8037-388e00a317c8",
   "metadata": {},
   "source": [
    "### 2, How to call out a directory:\n",
    "- If we want to work with a folder outside the current working dir, we must type down the entire absolute path of the folder.\n",
    "    - eg:\n",
    "```shell\n",
    "PS C:\\Users\\Admin\\AppData\\Roaming\\Python\\Python310\\Scripts\\Computing_terminologies> cd C:\\Users\\Admin\\AppData\\Roaming\\Python\\Python310\n",
    "```\n",
    "- If we want to work with a sub-folder or a file of our current working dir, we must only type down the part of the absolute path starting from the first folder inside the current working dir to the other ones leading to the target.\n",
    "    - eg:\n",
    "```shell\n",
    "PS C:\\Users\\Admin\\AppData\\Roaming\\Python\\Python310> cd Scripts\\Computing_terminologies\n",
    "```"
   ]
  },
  {
   "cell_type": "markdown",
   "id": "5103b81a-a993-4eeb-a940-76d9b73c2635",
   "metadata": {},
   "source": [
    "### 3, Work with directory containning spaces:\n",
    "- Normally, we cannot work with a file that contains spaces:\n",
    "    - eg:\n",
    "```shell\n",
    "PS C:\\Users\\Admin\\AppData\\Roaming\\Python\\Python310\\Scripts\\Computing_terminologies> cd Test 1 \n",
    "Set-Location : A positional parameter cannot be found that accepts argument '1'.\n",
    "At line:1 char:1\n",
    "+ cd Test 1\n",
    "+ ~~~~~~~~~\n",
    "    + CategoryInfo          : InvalidArgument: (:) [Set-Location], ParameterBindingException\n",
    "    + FullyQualifiedErrorId : PositionalParameterNotFound,Microsoft.PowerShell.Commands.SetLocationCommand\n",
    "                                                                                                 \n",
    "```\n",
    "- There are two solutions to this problem:\n",
    "    - Enclose the dir with `\"  \"`:\n",
    "- eg:\n",
    "```shell\n",
    "PS C:\\Users\\Admin\\AppData\\Roaming\\Python\\Python310\\Scripts\\Computing_terminologies> cd \"Test 1\"                                                                                                  \n",
    "```\n",
    "    - Add an grave_accent or backtick before every space:\n",
    "```shell\n",
    "PS C:\\Users\\Admin\\AppData\\Roaming\\Python\\Python310\\Scripts\\Computing_terminologies> cd Test` 1                                                                                               \n",
    "```    \n",
    "    "
   ]
  },
  {
   "cell_type": "markdown",
   "id": "39a85da1-ed4e-4d07-8ea6-5a1e0ab72bc7",
   "metadata": {},
   "source": [
    "## II, Uncategorized:"
   ]
  },
  {
   "cell_type": "markdown",
   "id": "e8babfd2-bdee-41b7-a174-d3879624c576",
   "metadata": {},
   "source": [
    "### 1, Print out the current working directory:\n",
    "```shell\n",
    "pwd\n",
    "```"
   ]
  },
  {
   "cell_type": "markdown",
   "id": "f3b3150b-a344-4a3b-a779-bdb1b3e06c1d",
   "metadata": {},
   "source": [
    "### 2, What is `~`?:\n",
    "- tilde, pronunciation: /ˈtildə/\n",
    "- In a terminal, `~` is the short cut for the current working directory."
   ]
  },
  {
   "cell_type": "markdown",
   "id": "27512b43-c1c8-4930-b69c-683ae3d1fd50",
   "metadata": {},
   "source": [
    "### 3, Clear the working screen:\n",
    "```shell\n",
    "cls\n",
    "```"
   ]
  },
  {
   "cell_type": "markdown",
   "id": "9547d06a-1ce8-4b8e-b685-1297d3f6dffa",
   "metadata": {},
   "source": [
    "### 4, Assign values to variables:\n",
    "```shell\n",
    "$var = pwd\n",
    "#assign values\n",
    "\n",
    "echo $var\n",
    "#display the value of the var\n",
    "```"
   ]
  },
  {
   "cell_type": "markdown",
   "id": "626ef982-70eb-43e4-b2ee-ea9915d1bbb8",
   "metadata": {},
   "source": [
    "### 5, Surf through the history of commands:\n",
    "- Pressing upward and downward arrows"
   ]
  },
  {
   "cell_type": "markdown",
   "id": "ca17ffbd-94f6-4926-a4df-552393cfc97c",
   "metadata": {},
   "source": [
    "### 6, Exit a command line that you cannot execute:\n",
    "```shell\n",
    "exit\n",
    "#can also be used to exit the terminal\n",
    "\n",
    "#or you can simply press esc on the keyboard\n",
    "```"
   ]
  },
  {
   "cell_type": "markdown",
   "id": "3a7d4245-dc03-4bbd-929a-446b1988fe06",
   "metadata": {},
   "source": [
    "## III, Working with a directory:"
   ]
  },
  {
   "cell_type": "markdown",
   "id": "ef9a2934-2381-4ef0-9d07-2786b445c340",
   "metadata": {},
   "source": [
    "### 1. Move to the target dir:\n",
    "- To any folers:\n",
    "```shell\n",
    "cd <dir>\n",
    "```\n",
    "- Move backwards to the containing folder within the dir: \n",
    "    - Use `..` for each backward step you want to take, seperate each set with a '\\', eg:\n",
    "```shell\n",
    "PS C:\\Users\\Admin\\AppData\\Roaming\\Python\\Python310\\Scripts\\Computing_terminologies> cd ..\\..\n",
    "\n",
    "PS C:\\Users\\Admin\\AppData\\Roaming\\Python\\Python310>\n",
    "```\n",
    "- Move to the folder that are contained inside the same folder as your current wrk_dir:\n",
    "```shell\n",
    "PS C:\\Users\\Admin\\AppData\\Roaming\\Python\\Python310\\Scripts\\Computing_terminologies> cd ..\\..\n",
    "\n",
    "PS C:\\Users\\Admin\\AppData\\Roaming\\Python\\Python310>\n",
    "```"
   ]
  },
  {
   "cell_type": "markdown",
   "id": "58503f97-35c4-456c-9ac9-54e246990047",
   "metadata": {},
   "source": [
    "### 2, Show the content within a dir:\n",
    "- Normal way:\n",
    "```shell\n",
    "dir\n",
    "```\n",
    "- Show files of the same format (same ending):\n",
    "```shell\n",
    "dir *.png\n",
    "```\n",
    "- ALl and include (automatically) hidden files:\n",
    "```shell\n",
    "dir -Force\n",
    "```\n",
    "- Only (automatically) hidden files:\n",
    "```shell\n",
    "dir -Hidden\n",
    "```\n",
    "- Show all subfolders and their contents:\n",
    "```shell\n",
    "dir -s\n",
    "```\n",
    "- Show all subfolders and their contents as a tree diagram:\n",
    "```shell\n",
    "tree /F\n",
    "```"
   ]
  },
  {
   "cell_type": "markdown",
   "id": "5f33ed19-99a6-4f7e-b27a-5d100b502cea",
   "metadata": {},
   "source": [
    "### 3, Create a new directory:\n",
    "```shell\n",
    "mkdir 'sub1\\sub2\\sub3'\n",
    "#multiple folders wihtin each other\n",
    "```"
   ]
  },
  {
   "cell_type": "markdown",
   "id": "80dc69d4-03be-42b9-a56e-957237766c7e",
   "metadata": {},
   "source": [
    "### 4, Remove a directory:\n",
    "- The usual way:\n",
    "```shell\n",
    "rmdir sub1\n",
    "```\n",
    "- For files that are not empty:\n",
    "\n",
    "```shell\n",
    "rm -r -fo sub1\n",
    "```\n",
    "\n",
    "    - the `-r` flag is to indicate that this task will be conducted recursively\n",
    "    - the `-fo` flag is escalate the effect of the command in case `-r` is not enough make the system delete all the files."
   ]
  },
  {
   "cell_type": "markdown",
   "id": "2e5b6cbc-ea74-4f29-b5e7-45a588e9eefd",
   "metadata": {},
   "source": [
    "## IV, Working with files:"
   ]
  },
  {
   "cell_type": "markdown",
   "id": "0a59fdf8-1377-416d-be78-f74593e6134e",
   "metadata": {},
   "source": [
    "### 1, Create a new file:\n",
    "```shell\n",
    "New-Item -Path 'abd.txt'\n",
    "\n",
    "#or\n",
    "New-Item -Path 'abd.txt' -f\n",
    "#to create a file even if a file of the same name already exists\n",
    "```"
   ]
  },
  {
   "cell_type": "markdown",
   "id": "e968831f-35ee-4067-bdad-473b4a6179a5",
   "metadata": {},
   "source": [
    "### 2, Show the content within a files:\n",
    "```shell\n",
    "type abd.txt\n",
    "#or\n",
    "Get-Content abd.txt\n",
    "```"
   ]
  },
  {
   "cell_type": "markdown",
   "id": "bd7a2b53-ebb9-4071-8750-28dbb4950928",
   "metadata": {},
   "source": [
    "### 3, Remove a file:\n",
    "```shell\n",
    "del abd.txt\n",
    "```"
   ]
  },
  {
   "cell_type": "markdown",
   "id": "c3feb3fe-9946-4074-82f9-861ba10bc882",
   "metadata": {},
   "source": [
    "### 4, copy a file:\n",
    "```shell\n",
    "copy <curr_file> <new_folder>\n",
    "```"
   ]
  },
  {
   "cell_type": "markdown",
   "id": "f73b6cf9-4733-453b-9dfa-624ce214655a",
   "metadata": {},
   "source": [
    "### 5, Assign the result of a command to a file:\n",
    "```shell\n",
    "$var2 = Get-Content Test2.txt\n",
    "```"
   ]
  },
  {
   "cell_type": "markdown",
   "id": "c8539c53-5708-4aeb-9688-addefc6adb41",
   "metadata": {},
   "source": [
    "### 6, copy a file:\n",
    "```shell\n",
    "$var1 = type Test1.txt\n",
    "\n",
    "$var2 = Get-Content Test2.txt\n",
    "\n",
    "diff $var1 $var2\n",
    "```"
   ]
  },
  {
   "cell_type": "markdown",
   "id": "ae963618-4011-4409-803d-a36afea9e494",
   "metadata": {},
   "source": [
    "### 7, Move a file to a new folder:\n",
    "```bash\n",
    "move Git.ipynb C:\\Users\\Admin\\AppData\\Roaming\\Python\\Python310\\Scripts\\Git\n",
    "```"
   ]
  },
  {
   "cell_type": "code",
   "execution_count": null,
   "id": "77dfdcad-0ca2-4857-9592-9d2441792f73",
   "metadata": {},
   "outputs": [],
   "source": []
  }
 ],
 "metadata": {
  "kernelspec": {
   "display_name": "Python 3 (ipykernel)",
   "language": "python",
   "name": "python3"
  },
  "language_info": {
   "codemirror_mode": {
    "name": "ipython",
    "version": 3
   },
   "file_extension": ".py",
   "mimetype": "text/x-python",
   "name": "python",
   "nbconvert_exporter": "python",
   "pygments_lexer": "ipython3",
   "version": "3.10.6"
  }
 },
 "nbformat": 4,
 "nbformat_minor": 5
}
